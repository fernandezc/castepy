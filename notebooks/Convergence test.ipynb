{
 "cells": [
  {
   "cell_type": "markdown",
   "metadata": {},
   "source": [
    "Simple convergence test generation\n",
    "================================="
   ]
  },
  {
   "cell_type": "markdown",
   "metadata": {},
   "source": [
    "First, import all the bits we need of the `castepy` package:"
   ]
  },
  {
   "cell_type": "code",
   "execution_count": null,
   "metadata": {
    "collapsed": false
   },
   "outputs": [],
   "source": [
    "from __future__ import print_function\n",
    "\n",
    "import os\n",
    "from castepy.input import Parameters\n",
    "from castepy.input import Cell\n",
    "from castepy.templates.submission_scripts import SubmissionScript\n",
    "from castepy import settings"
   ]
  },
  {
   "cell_type": "markdown",
   "metadata": {},
   "source": [
    "Next, grab our template ethanol param and cell files and read them into a `Parameters` and `Cell` object"
   ]
  },
  {
   "cell_type": "code",
   "execution_count": null,
   "metadata": {
    "collapsed": false
   },
   "outputs": [],
   "source": [
    "p = Parameters(\"../test_data/ethanol/ethanol.param\")\n",
    "c = Cell(\"../test_data/ethanol/ethanol.cell\")"
   ]
  },
  {
   "cell_type": "markdown",
   "metadata": {},
   "source": [
    "Let's look at the contents of the `Parameters` object"
   ]
  },
  {
   "cell_type": "code",
   "execution_count": null,
   "metadata": {
    "collapsed": false
   },
   "outputs": [],
   "source": [
    "print(p)"
   ]
  },
  {
   "cell_type": "markdown",
   "metadata": {},
   "source": [
    "It understands comments, includes units for numerical values and can check that the parameter keyword you're setting exists.\n",
    "\n",
    "Next, since we're probably doing this on a desktop, set the cluster environment we're going to be running on. This lets the SubmissionScript object know which submission script to use and how to calculate memory usage, cores needed, etc."
   ]
  },
  {
   "cell_type": "code",
   "execution_count": null,
   "metadata": {
    "collapsed": false
   },
   "outputs": [],
   "source": [
    "settings.PLATFORM = \"ironman\""
   ]
  },
  {
   "cell_type": "markdown",
   "metadata": {},
   "source": [
    "Finally, iterate over the cut-off energies we want to test, update the parameters and write it out"
   ]
  },
  {
   "cell_type": "code",
   "execution_count": null,
   "metadata": {
    "collapsed": false
   },
   "outputs": [],
   "source": [
    "if not os.path.exists('test'):\n",
    "    os.makedirs('test')\n",
    "\n",
    "path_format = \"test/ethanol-{}ry\"\n",
    "\n",
    "for cut_off_energy in range(30, 100, 10):\n",
    "    path = path_format.format(cut_off_energy)\n",
    "    \n",
    "    # Just set the numerical value, the units of \"ry\" will be kept\n",
    "    p.cut_off_energy = cut_off_energy\n",
    "    \n",
    "    # Open files to write out to\n",
    "    f_cell = open(path + \".cell\", \"w+\")\n",
    "    f_param = open(path + \".param\", \"w+\")\n",
    "    f_sh = open(path + \".sh\", \"w+\")\n",
    "    \n",
    "    # Generate our submission script\n",
    "    sh = SubmissionScript(\"shortpara.q\", 8, \"castep.mpi\", \"ethanol-{}ry\".format(cut_off_energy))\n",
    "    \n",
    "    # Write them to file\n",
    "    print (c, file=f_cell)\n",
    "    print (p, file=f_param)\n",
    "    print (sh, file=f_sh)\n"
   ]
  },
  {
   "cell_type": "markdown",
   "metadata": {},
   "source": [
    "Having a look at what was generated"
   ]
  },
  {
   "cell_type": "code",
   "execution_count": null,
   "metadata": {
    "collapsed": false
   },
   "outputs": [],
   "source": [
    "!ls test\n",
    "!echo\n",
    "!echo Submission script\n",
    "!echo -----------------\n",
    "!cat test/ethanol-30ry.sh\n",
    "!echo Cell file\n",
    "!echo ---------\n",
    "!cat test/ethanol-30ry.cell\n",
    "!echo Param file\n",
    "!echo ----------\n",
    "!cat test/ethanol-30ry.param"
   ]
  },
  {
   "cell_type": "code",
   "execution_count": null,
   "metadata": {
    "collapsed": false
   },
   "outputs": [],
   "source": []
  }
 ],
 "metadata": {
  "kernelspec": {
   "display_name": "Python 3",
   "language": "python",
   "name": "python3"
  },
  "language_info": {
   "codemirror_mode": {
    "name": "ipython",
    "version": 3
   },
   "file_extension": ".py",
   "mimetype": "text/x-python",
   "name": "python",
   "nbconvert_exporter": "python",
   "pygments_lexer": "ipython3",
   "version": "3.5.1"
  }
 },
 "nbformat": 4,
 "nbformat_minor": 0
}
